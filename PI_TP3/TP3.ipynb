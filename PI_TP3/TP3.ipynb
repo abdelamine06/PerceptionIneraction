{
 "cells": [
  {
   "cell_type": "markdown",
   "metadata": {},
   "source": [
    "# Perceptions&Interactions TP3 - Traitement d'image, Partie 2"
   ]
  },
  {
   "cell_type": "markdown",
   "metadata": {},
   "source": [
    "## Introduction"
   ]
  },
  {
   "cell_type": "markdown",
   "metadata": {},
   "source": [
    "*Imports et chargement d'image*"
   ]
  },
  {
   "cell_type": "code",
   "execution_count": null,
   "metadata": {},
   "outputs": [],
   "source": [
    "import numpy as np\n",
    "import matplotlib.pyplot as plt\n",
    "import cv2\n",
    "\n",
    "img = cv2.imread(\"lena_gray.png\")\n",
    "plt.imshow(img)\n",
    "plt.show()"
   ]
  },
  {
   "cell_type": "markdown",
   "metadata": {},
   "source": [
    "### **1. Erosion**\n",
    "\n",
    "Codez la fonction erosion(img, half_size). Cette fonction renvoie une nouvelle image dans laquelle chaque pixel (x,y) équivaut à la valeur la plus **faible** parmi les pixels voisins. Le voisinage considéré pourra être un carré allant de (x-half_size, y-half_size) à (x+half_size, y+half_size), c'est-à-dire un carré centré en (x-y) de taille (2\\*half_size)+1.\n",
    "\n",
    "On considèrera que les 3 canaux sont identiques (image en niveau de gris sur 3 canaux)."
   ]
  },
  {
   "cell_type": "code",
   "execution_count": null,
   "metadata": {},
   "outputs": [],
   "source": [
    "def erosion(img, half_size):\n",
    "    # ...\n",
    "    return\n",
    "\n",
    "img_erodee = erosion(img, 2)\n",
    "plt.imshow(img_erodee)"
   ]
  },
  {
   "cell_type": "markdown",
   "metadata": {},
   "source": [
    "### **2. Dilatation**\n",
    "\n",
    "Codez la fonction dilation(img, half_size). Cette fonction, à l'instar de la fonction erosion, renvoie une nouvelle image dans laquelle chaque pixel (x,y) équivaut à la valeur la plus **élevée** parmi les pixels voisins.\n",
    "\n",
    "On considèrera à nouveau que les 3 canaux sont identiques (image en niveau de gris sur 3 canaux)."
   ]
  },
  {
   "cell_type": "code",
   "execution_count": null,
   "metadata": {},
   "outputs": [],
   "source": [
    "def dilation(img, half_size):\n",
    "    # ...\n",
    "    return\n",
    "\n",
    "img_dilatee = dilation(img, 2)\n",
    "plt.imshow(img_dilatee)"
   ]
  },
  {
   "cell_type": "markdown",
   "metadata": {},
   "source": [
    "#### Extraction de contours avec dilation et erosion - v1"
   ]
  },
  {
   "cell_type": "code",
   "execution_count": null,
   "metadata": {},
   "outputs": [],
   "source": [
    "contours = img_dilatee - img_erodee\n",
    "plt.imshow(contours)"
   ]
  },
  {
   "cell_type": "markdown",
   "metadata": {},
   "source": [
    "#### Extraction de contours avec dilation et erosion - v2"
   ]
  },
  {
   "cell_type": "code",
   "execution_count": null,
   "metadata": {},
   "outputs": [],
   "source": [
    "contours = 2*img.astype(np.int16)\n",
    "contours -= img_dilatee\n",
    "contours -= img_erodee\n",
    "plt.imshow(np.clip(contours, a_min=0, a_max=255))"
   ]
  },
  {
   "cell_type": "markdown",
   "metadata": {},
   "source": [
    "#### Extraction de contours avec dilation et erosion - v3"
   ]
  },
  {
   "cell_type": "code",
   "execution_count": null,
   "metadata": {},
   "outputs": [],
   "source": [
    "contours = 2*img.astype(np.int16)\n",
    "contours -= erosion(dilation(img))\n",
    "contours -= dilation(erosion(img))\n",
    "plt.imshow(np.clip(contours, a_min=0, a_max=255))"
   ]
  },
  {
   "cell_type": "markdown",
   "metadata": {},
   "source": [
    "### 3. Méthodes d'érosion et de dilatation sur une image en couleur\n",
    "\n",
    "On dispose désormais d'une nouvelle image un peu particulière, \"carré_magique.png\". En effet :\n",
    "- le coin supérieur gauche contient uniquement des pixels à intensité maximale (255) de rouge.\n",
    "- le coin supérieur droit contient uniquement des pixels à intensité maximale (255) de vert.\n",
    "- le coin inférieur gauche contient uniquement des pixels à intensité moyenne (127) de rouge et de vert.\n",
    "- le coin inférieur droit contient en alternance des pixels à intensité maximale (255) de rouge et de vert."
   ]
  },
  {
   "cell_type": "code",
   "execution_count": null,
   "metadata": {},
   "outputs": [],
   "source": [
    "carre_magique = cv2.imread(\"carre_magique.png\")\n",
    "carre_magique = cv2.cvtColor(carre_magique, cv2.COLOR_BGR2RGB)\n",
    "plt.imshow(carre_magique)"
   ]
  },
  {
   "cell_type": "markdown",
   "metadata": {},
   "source": [
    "#### 3.1 Méthodes marginales\n",
    "\n",
    "Tout d'abord, codez les fonctions erosion_marginal(img, half_size) et dilation_marginal(img, half_size). Ces fonctions sont identiques aux fonctions erosion et dilation codées précédemment, à la différence que les 3 canaux de couleur sont traités séparément."
   ]
  },
  {
   "cell_type": "code",
   "execution_count": null,
   "metadata": {},
   "outputs": [],
   "source": [
    "def erosion_marginal(img, half_size):\n",
    "    # ...\n",
    "    return\n",
    "\n",
    "img_erodee = erosion_marginal(carre_magique, 2)\n",
    "plt.imshow(img_erodee)"
   ]
  },
  {
   "cell_type": "code",
   "execution_count": null,
   "metadata": {},
   "outputs": [],
   "source": [
    "def dilation_marginal(img, half_size):\n",
    "    # ...\n",
    "    return\n",
    "\n",
    "img_dilatee = dilation_marginal(carre_magique, 2)\n",
    "plt.imshow(img_dilatee)"
   ]
  },
  {
   "cell_type": "markdown",
   "metadata": {},
   "source": [
    "#### 3.2 Méthodes lexicographiques\n",
    "\n",
    "Tout d'abord, codez les fonctions erosion_lexico(img, half_size) et dilation_lexico(img, half_size). Cette fois-ci, les 3 canaux sont traités conjointement. Pour 2 pixels considérés, le triplet (r,g,b) considéré comme \"supérieur\" est celui :\n",
    "- Du pixel qui a une valeur de rouge supérieure, s'il y en a un.\n",
    "- Sinon, celui du pixel qui a une valeur de vert supérieure, s'il y en a un.\n",
    "- Sinon, celui du pixel qui a une valeur de bleu supérieure, s'il y en a un.\n",
    "- Sinon, les deux pixels sont égaux (on peut garder n'importe lequel des deux).\n",
    "\n",
    "Pour l'érosion, on cherchera donc le triplet (r, g, b) *inférieur, en commençant par le bleu, puis le vert, puis le rouge*.\n",
    "\n",
    "Pour la dilation, on cherchera donc le triplet (r, g, b) *supérieur, en commençant par le rouge, puis le vert, puis le bleu*."
   ]
  },
  {
   "cell_type": "code",
   "execution_count": null,
   "metadata": {},
   "outputs": [],
   "source": [
    "def erosion_lexico(img, half_size):\n",
    "    # ...\n",
    "    return\n",
    "\n",
    "img_erodee = erosion_lexico(carre_magique, 2)\n",
    "plt.imshow(img_erodee)"
   ]
  },
  {
   "cell_type": "code",
   "execution_count": null,
   "metadata": {},
   "outputs": [],
   "source": [
    "def dilation_marginal(img, half_size):\n",
    "    # ...\n",
    "    return\n",
    "\n",
    "img_dilatee = dilation_lexico(carre_magique, 2)\n",
    "plt.imshow(img_dilatee)"
   ]
  },
  {
   "cell_type": "markdown",
   "metadata": {},
   "source": [
    "## Exercices bonus\n",
    "\n",
    "### 4. Features from Accelerated Segment Test (FAST)\n",
    "\n",
    "FAST est un algorithme de détection de points d'intérêt. Pour chaque pixel, un cercle de rayon 3 des pixels \"voisins\" est calculé. Tout d'abord, on peut définir un tel cercle tel que :"
   ]
  },
  {
   "cell_type": "code",
   "execution_count": null,
   "metadata": {},
   "outputs": [],
   "source": [
    "def bresenham_circle():\n",
    "    circle = np.zeros((7,7))\n",
    "    for i in range(circle.shape[0]):\n",
    "        for j in range(circle.shape[1]):\n",
    "            distance = np.sqrt((3-i)*(3-i) + (3-j)*(3-j))\n",
    "            if distance > 2.5 and distance < 3.5:\n",
    "                circle[i, j] = 1\n",
    "    return circle\n",
    "plt.imshow(bresenham_circle())"
   ]
  },
  {
   "cell_type": "markdown",
   "metadata": {},
   "source": [
    "Ce cercle pourra ensuite être utilisé de manière similaire aux noyaux de la fonction convolution. Le cercle est composé de 16 pixels. Pour chaque pixel du cercle, on vérifie si sa différence d'intensité avec le pixel du centre du cercle est supérieure au threshold donné en paramètre. Si au moins 12 des 16 pixels du cercle ont une différence supérieure à ce threshold, alors le pixel est considéré comme un point d'intérêt.\n",
    "\n",
    "La fonction fast retourne un tableau contenant n paires de coordonnées (i,j), n étant le nombre de points d'intérêts trouvés."
   ]
  },
  {
   "cell_type": "code",
   "execution_count": null,
   "metadata": {},
   "outputs": [],
   "source": [
    "def fast(img, threshold):\n",
    "    circle = bresenham_circle()\n",
    "    # ...\n",
    "    return\n",
    "\n",
    "keypoints = fast(img, 20)\n",
    "\n",
    "img_show_keypoints = img.copy()\n",
    "for kp in keypoints:\n",
    "    (x,y) = kp\n",
    "    img_show_keypoints[x-1:x+1, y-1:y+1, 1] = 255\n",
    "plt.imshow(img_show_keypoints)"
   ]
  },
  {
   "cell_type": "markdown",
   "metadata": {},
   "source": [
    "### 5. Binary Robust Independent Elementary Features (BRIEF)\n",
    "\n",
    "BRIEF calcule des descripteurs pour chaque point d'intérêt. Tout d'abord, un flou est effectué sur l'image d'entrée pour diminuer le niveau de bruit. Il est possible d'utiliser un flou tel que codé précédemment avec les fonctions moyenne_voisins ou convolution, ou alors d'utiliser un flou gaussien à l'aide des deux lignes suivantes (si supporté par l'installation Python du CREMI...) :\n",
    "> from scipy.ndimage import gaussian_filter\n",
    "> \n",
    "> gaussian_filter(img, sigma=2)\n",
    "\n",
    "On cherche alors à obtenir un descripteur, ici un vecteur de taille 128, pour chaque pixel détecté comme un point d'intérêt par FAST. On considère le voisinage de ce pixel (carré de taille 9x9). Dans ce voisinage, 128 paires de pixels (A,B) sont sélectionnées aléatoirement. Pour chacune de ces paires, si img(A) < img(B), alors le vecteur prend la valeur 1 (dans la case correspondant au numéro de la paire considérée). Dans le cas contraire, le vecteur prend la valeur 0."
   ]
  },
  {
   "cell_type": "code",
   "execution_count": null,
   "metadata": {},
   "outputs": [],
   "source": [
    "def brief(img, keypoints) :\n",
    "    # ...\n",
    "\n",
    "descripteurs = brief(img, keypoints)"
   ]
  },
  {
   "cell_type": "code",
   "execution_count": null,
   "metadata": {},
   "outputs": [],
   "source": []
  }
 ],
 "metadata": {
  "kernelspec": {
   "display_name": "Python 3",
   "language": "python",
   "name": "python3"
  },
  "language_info": {
   "codemirror_mode": {
    "name": "ipython",
    "version": 3
   },
   "file_extension": ".py",
   "mimetype": "text/x-python",
   "name": "python",
   "nbconvert_exporter": "python",
   "pygments_lexer": "ipython3",
   "version": "3.7.4"
  }
 },
 "nbformat": 4,
 "nbformat_minor": 2
}
