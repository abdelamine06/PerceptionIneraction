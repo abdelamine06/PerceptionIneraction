{
 "cells": [
  {
   "cell_type": "markdown",
   "metadata": {},
   "source": [
    "# Perceptions&Interactions TP2 - Traitement d'image"
   ]
  },
  {
   "cell_type": "markdown",
   "metadata": {},
   "source": [
    "## Introduction"
   ]
  },
  {
   "cell_type": "markdown",
   "metadata": {},
   "source": [
    "*Imports*"
   ]
  },
  {
   "cell_type": "code",
   "execution_count": null,
   "metadata": {},
   "outputs": [],
   "source": [
    "import numpy as np\n",
    "import matplotlib.pyplot as plt\n",
    "import cv2"
   ]
  },
  {
   "cell_type": "markdown",
   "metadata": {},
   "source": [
    "**(Rappel) Chargement d'une image avec OpenCV et affichage avec Matplotlib**"
   ]
  },
  {
   "cell_type": "code",
   "execution_count": null,
   "metadata": {},
   "outputs": [],
   "source": [
    "img = cv2.imread(\"lena_gray.png\")\n",
    "plt.imshow(img)\n",
    "plt.show()"
   ]
  },
  {
   "cell_type": "markdown",
   "metadata": {},
   "source": [
    "**Format des données d'une image**\n",
    "\n",
    "Une image est constituée de 3 dimensions, qui sont ici respectivement la hauteur, la longueur et les trois canaux de couleur (Rouge, Vert, Bleu).\n",
    "\n",
    "Utiliser \".shape\" sur une image permet d'obtenir un tuple contenant la taille de l'image dans chacune des dimensions de celle-ci."
   ]
  },
  {
   "cell_type": "code",
   "execution_count": null,
   "metadata": {},
   "outputs": [],
   "source": [
    "print(\"Taille de l'image :\", img.shape)\n",
    "\n",
    "(h, w, c) = img.shape\n",
    "print(\"Hauteur :\", h)\n",
    "print(\"Largeur :\", w)\n",
    "print(\"Nombre de canaux de couleur :\", c)\n",
    "# ou\n",
    "print(\"Hauteur (v2) :\", img.shape[0])\n",
    "print(\"Largeur (v2) :\", img.shape[1])\n",
    "print(\"Nombre de canaux de couleur (v2) :\", img.shape[2])"
   ]
  },
  {
   "cell_type": "markdown",
   "metadata": {},
   "source": [
    "**Obtenir la valeur maximale d'une image**"
   ]
  },
  {
   "cell_type": "code",
   "execution_count": null,
   "metadata": {},
   "outputs": [],
   "source": [
    "def max_value_image(img):\n",
    "    val_max = 0\n",
    "    for i in range(img.shape[0]):\n",
    "        for j in range(img.shape[1]):\n",
    "            for k in range(img.shape[2]):\n",
    "                if img[i, j, k] > val_max:\n",
    "                    val_max = img[i, j, k]\n",
    "    return val_max\n",
    "\n",
    "print(\"Intensité maximale de l'image :\", max_value_image(img))"
   ]
  },
  {
   "cell_type": "markdown",
   "metadata": {},
   "source": [
    "ou"
   ]
  },
  {
   "cell_type": "code",
   "execution_count": null,
   "metadata": {},
   "outputs": [],
   "source": [
    "print(\"Valeur maximale de l'image (numpy) :\", np.max(img))"
   ]
  },
  {
   "cell_type": "markdown",
   "metadata": {},
   "source": [
    "**Obtenir la valeur moyenne d'une image**"
   ]
  },
  {
   "cell_type": "code",
   "execution_count": null,
   "metadata": {},
   "outputs": [],
   "source": [
    "def mean_value_image_v1(img):\n",
    "    val_sum = 0\n",
    "    nb_values = 0\n",
    "    for i in range(img.shape[0]):\n",
    "        for j in range(img.shape[1]):\n",
    "            for k in range(img.shape[2]):\n",
    "                val_sum += img[i, j, k]\n",
    "                nb_values += 1\n",
    "    return val_sum / nb_values\n",
    "\n",
    "print(\"Intensité moyenne de l'image (v1) :\", mean_value_image_v1(img))"
   ]
  },
  {
   "cell_type": "markdown",
   "metadata": {},
   "source": [
    "ou"
   ]
  },
  {
   "cell_type": "code",
   "execution_count": null,
   "metadata": {},
   "outputs": [],
   "source": [
    "def mean_value_image_v2(img):\n",
    "    val_sum = np.sum(img)\n",
    "    nb_values = img.shape[0] * img.shape[1] * img.shape[2]\n",
    "    return val_sum / nb_values\n",
    "\n",
    "print(\"Intensité moyenne de l'image (v2) :\", mean_value_image_v2(img))"
   ]
  },
  {
   "cell_type": "markdown",
   "metadata": {},
   "source": [
    "ou"
   ]
  },
  {
   "cell_type": "code",
   "execution_count": null,
   "metadata": {},
   "outputs": [],
   "source": [
    "print(\"Intensité moyenne de l'image (numpy) :\", np.mean(img))"
   ]
  },
  {
   "cell_type": "markdown",
   "metadata": {},
   "source": [
    "**Autres fonctions numpy utiles**\n",
    "\n",
    "***np.zeros((k1, k2, k3, ..., kN))*** permet de créer un tableau à N dimensions de tailles k1, k2, k3, ..., kN rempli entièrement de 0s. Il est également possible de lui donner comme paramètre la *shape* d'un autre tableau pour copier ses dimensions.\n",
    "\n",
    "*np.ones((k1, k2, k3, ..., kN))* fait de même, mais avec des 1 à la place des 0.\n",
    "\n",
    "*np.arange(k)* permet de créer un tableau \\[0, 1, 2, ..., k-1, k\\]. De la même manière, *np.arange(a, b)* permet de créer un tableau \\[a, a+1, a+2, ..., b-1, b\\]."
   ]
  },
  {
   "cell_type": "code",
   "execution_count": null,
   "metadata": {},
   "outputs": [],
   "source": [
    "example = np.zeros((10))\n",
    "print(\"Exemple 1 :\", example)\n",
    "print(\"Shape exemple 1 :\", example.shape)\n",
    "example = np.zeros((2, 2, 3))\n",
    "print(\"Shape exemple 2 :\", example.shape)\n",
    "example = np.zeros(img.shape)\n",
    "print(\"Shape exemple 3 :\", example.shape)\n",
    "\n",
    "print()\n",
    "\n",
    "example = np.ones((10))\n",
    "print(\"Exemple 4 :\", example)\n",
    "print(\"Shape exemple 4 :\", example.shape)\n",
    "\n",
    "print()\n",
    "\n",
    "example = np.arange(3, 10)\n",
    "print(\"Exemple 5 :\", example)"
   ]
  },
  {
   "cell_type": "markdown",
   "metadata": {},
   "source": [
    "## À vous"
   ]
  },
  {
   "cell_type": "markdown",
   "metadata": {},
   "source": [
    "### **1. Histogramme d'intensité**\n",
    "\n",
    "Codez la fonction histogram qui calcule l'histogramme d'intensité d'une image en niveaux de gris et affichez-le. L'histogramme d'intensité d'une image peut être vu comme un tableau à une dimension dont chaque case contient le nombre de pixels à une certaine valeur d'intensité.\n",
    "\n",
    "Après avoir codé la fonction, décommentez la dernière ligne pour afficher l'histogramme sous forme de barres. Vous pouvez trouver un exemple de résultat attendu dans results/histogram.png."
   ]
  },
  {
   "cell_type": "code",
   "execution_count": null,
   "metadata": {},
   "outputs": [],
   "source": [
    "def histogram(img):\n",
    "    # ...\n",
    "    return\n",
    "\n",
    "hist = histogram(img)\n",
    "# plt.bar(np.arange(len(hist)), hist)"
   ]
  },
  {
   "cell_type": "markdown",
   "metadata": {},
   "source": [
    "### **2. Normalisation**\n",
    "\n",
    "Codez la fonction normalize. Cette fonction a pour effet de réduire ou d'augmenter le contraste, respectivement en comprimant ou en étirant les valeurs d'intensité de l'image d'entrée vers les valeurs val_min et val_max. Faites attention aux types (uint8, float...), leur déclaration étant implicite en Python.\n",
    "\n",
    "Affichez l'image après normalisation avec val_min = 100 et val_max = 125. Vous pouvez trouver un exemple de résultat attendu dans results/lena_normalized.png."
   ]
  },
  {
   "cell_type": "code",
   "execution_count": null,
   "metadata": {},
   "outputs": [],
   "source": [
    "def normalize(img, val_min, val_max):\n",
    "    # ...\n",
    "    return\n",
    "\n",
    "img_normalized = normalize(img, 100, 125)\n",
    "# plt.imshow(img_normalized)"
   ]
  },
  {
   "cell_type": "markdown",
   "metadata": {},
   "source": [
    "#### **Relation entre histogramme et normalisation**\n",
    "\n",
    "Affichez à nouveau l'histogramme, cette fois-ci sur l'image normalisée, et constatez les changements. Vous pouvez essayer de modifier les val_min et val_max de la fonction normalize puis d'afficher à nouveau l'histogramme. Qu'en concluez-vous ?"
   ]
  },
  {
   "cell_type": "code",
   "execution_count": null,
   "metadata": {},
   "outputs": [],
   "source": [
    "val_min = 100\n",
    "val_max = 125\n",
    "\n",
    "img_normalized = normalize(img, val_min, val_max)\n",
    "hist = histogram(img_normalized)\n",
    "# plt.bar(np.arange(len(hist)), hist)"
   ]
  },
  {
   "cell_type": "markdown",
   "metadata": {},
   "source": [
    "### **3. Débruitage et convolution**\n",
    "\n",
    "Dû à un problème informatique, l'image de Lena s'est retrouvée recouverte de bruit."
   ]
  },
  {
   "cell_type": "code",
   "execution_count": null,
   "metadata": {},
   "outputs": [],
   "source": [
    "img_bruitee = cv2.imread(\"lena_bruitee.png\")\n",
    "plt.imshow(img_bruitee)\n",
    "plt.show()"
   ]
  },
  {
   "cell_type": "markdown",
   "metadata": {},
   "source": [
    "Le bruit affectant l'image étant du bruit blanc (aléatoire), il est possible de s'approcher de l'image originale en prenant pour chaque pixel la moyenne de lui-même et de chacun de ses voisins.\n",
    "\n",
    "Écrivez une fonction moyenne_voisins qui crée une nouvelle image, dans laquelle chaque pixel est égal à la moyenne de son voisinnage de l'image originale. Affichez ensuite cette image. Vous pouvez trouver un exemple de résultat dans resultats/lena_debruitee.png.\n",
    "\n",
    "Notes : Les bords des images seront ignorés. Cette fois encore, faites attention aux types (uint8, float...)."
   ]
  },
  {
   "cell_type": "code",
   "execution_count": null,
   "metadata": {},
   "outputs": [],
   "source": [
    "def moyenne_voisins(img):\n",
    "    # ...\n",
    "    return \n",
    "\n",
    "img_debruitee = moyenne_voisins(img_bruitee)"
   ]
  },
  {
   "cell_type": "markdown",
   "metadata": {},
   "source": [
    "Observez le résultat. Qu'en concluez-vous sur l'opération effectuée ?"
   ]
  },
  {
   "cell_type": "code",
   "execution_count": null,
   "metadata": {},
   "outputs": [],
   "source": []
  }
 ],
 "metadata": {
  "kernelspec": {
   "display_name": "Python 3",
   "language": "python",
   "name": "python3"
  },
  "language_info": {
   "codemirror_mode": {
    "name": "ipython",
    "version": 3
   },
   "file_extension": ".py",
   "mimetype": "text/x-python",
   "name": "python",
   "nbconvert_exporter": "python",
   "pygments_lexer": "ipython3",
   "version": "3.7.4"
  }
 },
 "nbformat": 4,
 "nbformat_minor": 2
}
